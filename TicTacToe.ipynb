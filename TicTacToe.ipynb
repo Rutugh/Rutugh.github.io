{
  "nbformat": 4,
  "nbformat_minor": 0,
  "metadata": {
    "colab": {
      "provenance": [],
      "authorship_tag": "ABX9TyMw7WzOjU7IGxKwsrxq6oOT",
      "include_colab_link": true
    },
    "kernelspec": {
      "name": "python3",
      "display_name": "Python 3"
    },
    "language_info": {
      "name": "python"
    }
  },
  "cells": [
    {
      "cell_type": "markdown",
      "metadata": {
        "id": "view-in-github",
        "colab_type": "text"
      },
      "source": [
        "<a href=\"https://colab.research.google.com/github/Rutugh/Rutugh.github.io/blob/main/TicTacToe.ipynb\" target=\"_parent\"><img src=\"https://colab.research.google.com/assets/colab-badge.svg\" alt=\"Open In Colab\"/></a>"
      ]
    },
    {
      "cell_type": "code",
      "source": [],
      "metadata": {
        "id": "tc_Zf6R9wghN"
      },
      "execution_count": null,
      "outputs": []
    },
    {
      "cell_type": "code",
      "execution_count": 18,
      "metadata": {
        "colab": {
          "base_uri": "https://localhost:8080/"
        },
        "id": "1XbQrzDGwF3a",
        "outputId": "8531b15b-394c-4374-f2f9-d48847d5b119"
      },
      "outputs": [
        {
          "output_type": "stream",
          "name": "stdout",
          "text": [
            "Welcome to Tic Tac Toe 🌈🌈🪅\n",
            "0 | 1 | 2\n",
            "----------\n",
            "3 | 4 | 5\n",
            "----------\n",
            "6 | 7 | 8\n",
            "Player 1: \n",
            "Please enter a value: 2\n",
            "0 | 1 | X\n",
            "----------\n",
            "3 | 4 | 5\n",
            "----------\n",
            "6 | 7 | 8\n",
            "Player 2: \n",
            "Please enter a value: 7\n",
            "0 | 1 | X\n",
            "----------\n",
            "3 | 4 | 5\n",
            "----------\n",
            "6 | O | 8\n",
            "Player 1: \n",
            "Please enter a value: 6\n",
            "0 | 1 | X\n",
            "----------\n",
            "3 | 4 | 5\n",
            "----------\n",
            "X | O | 8\n",
            "Player 2: \n",
            "Please enter a value: 4\n",
            "0 | 1 | X\n",
            "----------\n",
            "3 | O | 5\n",
            "----------\n",
            "X | O | 8\n",
            "Player 1: \n",
            "Please enter a value: 0\n",
            "X | 1 | X\n",
            "----------\n",
            "3 | O | 5\n",
            "----------\n",
            "X | O | 8\n",
            "Player 2: \n",
            "Please enter a value: 1\n",
            "Player 2 won the match! 🎉🎉\n"
          ]
        }
      ],
      "source": [
        "def sum(a, b, c):\n",
        "  return a+b+c;\n",
        "\n",
        "def printBoard(iState, jState):\n",
        "  print(f\"{'X' if iState[0] else ('O' if jState[0] else 0)} | {'X' if iState[1] else ('O' if jState[1] else 1)} | {'X' if iState[2] else ('O' if jState[2] else 2)}\")\n",
        "  print(\"----------\")\n",
        "  print(f\"{'X' if iState[3] else ('O' if jState[3] else 3)} | {'X' if iState[4] else ('O' if jState[4] else 4)} | {'X' if iState[5] else ('O' if jState[5] else 5)}\")\n",
        "  print(\"----------\")\n",
        "  print(f\"{'X' if iState[6] else ('O' if jState[6] else 6)} | {'X' if iState[7] else ('O' if jState[7] else 7)} | {'X' if iState[8] else ('O' if jState[8] else 8)}\")\n",
        "\n",
        "def win(iState, jState):\n",
        "  win_p=[[0, 1, 2],[3, 4, 5],[6, 7, 8],[0, 3, 6],[1, 4, 7],[2, 5, 8], [0, 4, 8], [2, 4, 6]]\n",
        "  for w in win_p:\n",
        "    if(sum(iState[w[0]], iState[w[1]], iState[w[2]]) ==3):\n",
        "      print(\"Player 1 won the match! 🎉🎉\")\n",
        "      return 1\n",
        "    if(sum(jState[w[0]], jState[w[1]], jState[w[2]]) ==3):\n",
        "      print(\"Player 2 won the match! 🎉🎉\")\n",
        "      return 0\n",
        "\n",
        "  return -1\n",
        "\n",
        "\n",
        "\n",
        "if __name__ == \"__main__\":\n",
        "  iState=[0, 0, 0, 0, 0, 0, 0, 0, 0]\n",
        "  jState=[0, 0, 0, 0, 0, 0, 0, 0, 0]\n",
        "  turn = 1     # 1 for x and 0 for O\n",
        "  print(\"Welcome to Tic Tac Toe 🌈🌈🪅\")\n",
        "  while(True):\n",
        "    printBoard(iState, jState)\n",
        "    if(turn == 1):\n",
        "      print(\"Player 1: \")  #X\n",
        "      val=int(input(\"Please enter a value: \"))\n",
        "      iState[val]=1\n",
        "      turn= turn -1\n",
        "    else:\n",
        "      print(\"Player 2: \")  #0\n",
        "      val=int(input(\"Please enter a value: \"))\n",
        "      jState[val]=1\n",
        "      turn= 1 - turn\n",
        "    a=int(win(iState, jState))\n",
        "    if(a!=-1):\n",
        "\n",
        "      break\n",
        "\n"
      ]
    },
    {
      "cell_type": "code",
      "source": [],
      "metadata": {
        "id": "I6zflHas-my0"
      },
      "execution_count": null,
      "outputs": []
    }
  ]
}